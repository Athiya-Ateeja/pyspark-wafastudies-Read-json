{
 "cells": [
  {
   "cell_type": "code",
   "execution_count": 0,
   "metadata": {
    "application/vnd.databricks.v1+cell": {
     "cellMetadata": {
      "byteLimit": 2048000,
      "rowLimit": 10000
     },
     "inputWidgets": {},
     "nuid": "83a7dd7f-7b38-4a7e-8193-c95eda34b1cf",
     "showTitle": true,
     "title": "Read JSON Method 1"
    }
   },
   "outputs": [
    {
     "output_type": "stream",
     "name": "stdout",
     "output_type": "stream",
     "text": [
      "root\n |-- color: string (nullable = true)\n |-- fruit: string (nullable = true)\n |-- size: string (nullable = true)\n\n+-----+-----+-----+\n|color|fruit| size|\n+-----+-----+-----+\n|  Red|Apple|Large|\n+-----+-----+-----+\n\n"
     ]
    }
   ],
   "source": [
    "df = spark.read.option(\"multiline\",\"true\") \\\n",
    "                .json(\"dbfs:/FileStore/shared_uploads/athiyastudies@gmail.com/sample1.json\")\n",
    "df.printSchema()\n",
    "df.show()"
   ]
  },
  {
   "cell_type": "code",
   "execution_count": 0,
   "metadata": {
    "application/vnd.databricks.v1+cell": {
     "cellMetadata": {
      "byteLimit": 2048000,
      "rowLimit": 10000
     },
     "inputWidgets": {},
     "nuid": "13ca8909-b70f-4df1-a76d-4e43f6bb3557",
     "showTitle": true,
     "title": "Method 2"
    }
   },
   "outputs": [
    {
     "output_type": "stream",
     "name": "stdout",
     "output_type": "stream",
     "text": [
      "root\n |-- color: string (nullable = true)\n |-- fruit: string (nullable = true)\n |-- size: string (nullable = true)\n\n+-----+-----+-----+\n|color|fruit| size|\n+-----+-----+-----+\n|  Red|Apple|Large|\n+-----+-----+-----+\n\n"
     ]
    }
   ],
   "source": [
    "df = spark.read.json(\"dbfs:/FileStore/shared_uploads/athiyastudies@gmail.com/sample1.json\",multiLine=True)\n",
    "df.printSchema()\n",
    "df.show()"
   ]
  },
  {
   "cell_type": "code",
   "execution_count": 0,
   "metadata": {
    "application/vnd.databricks.v1+cell": {
     "cellMetadata": {
      "byteLimit": 2048000,
      "rowLimit": 10000
     },
     "inputWidgets": {},
     "nuid": "4ae62783-1a3a-434e-8546-e1cbad5534c0",
     "showTitle": true,
     "title": "Read Multiple Json Files"
    }
   },
   "outputs": [
    {
     "output_type": "stream",
     "name": "stdout",
     "output_type": "stream",
     "text": [
      "root\n |-- _corrupt_record: string (nullable = true)\n |-- color: string (nullable = true)\n |-- fruit: string (nullable = true)\n |-- size: string (nullable = true)\n\n+--------------------+-----+-----+-----+\n|     _corrupt_record|color|fruit| size|\n+--------------------+-----+-----+-----+\n|{\\r\\n  \"countries...| null| null| null|\n|                null|  Red|Apple|Large|\n+--------------------+-----+-----+-----+\n\n"
     ]
    }
   ],
   "source": [
    "df = spark.read.json(['dbfs:/FileStore/shared_uploads/athiyastudies@gmail.com/sample1.json',\n",
    "                       'dbfs:/FileStore/shared_uploads/athiyastudies@gmail.com/1_05KB_JSON_File_FreeTestData.json'],multiLine=True)\n",
    "df.printSchema()\n",
    "df.show()"
   ]
  },
  {
   "cell_type": "code",
   "execution_count": 0,
   "metadata": {
    "application/vnd.databricks.v1+cell": {
     "cellMetadata": {
      "byteLimit": 2048000,
      "rowLimit": 10000
     },
     "inputWidgets": {},
     "nuid": "aca00f61-8045-463b-89b3-c3d9cb83e9a4",
     "showTitle": true,
     "title": "Read Multiple json files Method 2"
    }
   },
   "outputs": [
    {
     "output_type": "stream",
     "name": "stdout",
     "output_type": "stream",
     "text": [
      "root\n |-- _corrupt_record: string (nullable = true)\n |-- color: string (nullable = true)\n |-- fruit: string (nullable = true)\n |-- size: string (nullable = true)\n\n+--------------------+-----+-----+-----+\n|     _corrupt_record|color|fruit| size|\n+--------------------+-----+-----+-----+\n|{\\r\\n  \"countries...| null| null| null|\n|                null|  Red|Apple|Large|\n+--------------------+-----+-----+-----+\n\n"
     ]
    }
   ],
   "source": [
    "df = spark.read.json(\"dbfs:/FileStore/shared_uploads/athiyastudies@gmail.com/*.json\",multiLine=True)\n",
    "df.printSchema()\n",
    "df.show()"
   ]
  }
 ],
 "metadata": {
  "application/vnd.databricks.v1+notebook": {
   "dashboards": [],
   "language": "python",
   "notebookMetadata": {
    "mostRecentlyExecutedCommandWithImplicitDF": {
     "commandId": 3499262405374239,
     "dataframes": [
      "_sqldf"
     ]
    },
    "pythonIndentUnit": 4
   },
   "notebookName": "Read Json",
   "widgets": {}
  }
 },
 "nbformat": 4,
 "nbformat_minor": 0
}
